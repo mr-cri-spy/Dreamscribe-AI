{
  "nbformat": 4,
  "nbformat_minor": 0,
  "metadata": {
    "colab": {
      "provenance": [],
      "authorship_tag": "ABX9TyP3HVV5VeLWrLemxkPvFGoO",
      "include_colab_link": true
    },
    "kernelspec": {
      "name": "python3",
      "display_name": "Python 3"
    },
    "language_info": {
      "name": "python"
    }
  },
  "cells": [
    {
      "cell_type": "markdown",
      "metadata": {
        "id": "view-in-github",
        "colab_type": "text"
      },
      "source": [
        "<a href=\"https://colab.research.google.com/github/mr-cri-spy/Dreamscribe-AI/blob/main/dream_story_writer.ipynb\" target=\"_parent\"><img src=\"https://colab.research.google.com/assets/colab-badge.svg\" alt=\"Open In Colab\"/></a>"
      ]
    },
    {
      "cell_type": "markdown",
      "source": [
        "installing libraries"
      ],
      "metadata": {
        "id": "-7zg3jIdHWy3"
      }
    },
    {
      "cell_type": "code",
      "source": [
        "!pip install transformers"
      ],
      "metadata": {
        "colab": {
          "base_uri": "https://localhost:8080/"
        },
        "id": "3HsTVFgSHv_d",
        "outputId": "4539747c-ff66-4a58-9953-61721f544e22"
      },
      "execution_count": 1,
      "outputs": [
        {
          "output_type": "stream",
          "name": "stdout",
          "text": [
            "Requirement already satisfied: transformers in /usr/local/lib/python3.11/dist-packages (4.51.3)\n",
            "Requirement already satisfied: filelock in /usr/local/lib/python3.11/dist-packages (from transformers) (3.18.0)\n",
            "Requirement already satisfied: huggingface-hub<1.0,>=0.30.0 in /usr/local/lib/python3.11/dist-packages (from transformers) (0.31.2)\n",
            "Requirement already satisfied: numpy>=1.17 in /usr/local/lib/python3.11/dist-packages (from transformers) (2.0.2)\n",
            "Requirement already satisfied: packaging>=20.0 in /usr/local/lib/python3.11/dist-packages (from transformers) (24.2)\n",
            "Requirement already satisfied: pyyaml>=5.1 in /usr/local/lib/python3.11/dist-packages (from transformers) (6.0.2)\n",
            "Requirement already satisfied: regex!=2019.12.17 in /usr/local/lib/python3.11/dist-packages (from transformers) (2024.11.6)\n",
            "Requirement already satisfied: requests in /usr/local/lib/python3.11/dist-packages (from transformers) (2.32.3)\n",
            "Requirement already satisfied: tokenizers<0.22,>=0.21 in /usr/local/lib/python3.11/dist-packages (from transformers) (0.21.1)\n",
            "Requirement already satisfied: safetensors>=0.4.3 in /usr/local/lib/python3.11/dist-packages (from transformers) (0.5.3)\n",
            "Requirement already satisfied: tqdm>=4.27 in /usr/local/lib/python3.11/dist-packages (from transformers) (4.67.1)\n",
            "Requirement already satisfied: fsspec>=2023.5.0 in /usr/local/lib/python3.11/dist-packages (from huggingface-hub<1.0,>=0.30.0->transformers) (2025.3.2)\n",
            "Requirement already satisfied: typing-extensions>=3.7.4.3 in /usr/local/lib/python3.11/dist-packages (from huggingface-hub<1.0,>=0.30.0->transformers) (4.13.2)\n",
            "Requirement already satisfied: charset-normalizer<4,>=2 in /usr/local/lib/python3.11/dist-packages (from requests->transformers) (3.4.2)\n",
            "Requirement already satisfied: idna<4,>=2.5 in /usr/local/lib/python3.11/dist-packages (from requests->transformers) (3.10)\n",
            "Requirement already satisfied: urllib3<3,>=1.21.1 in /usr/local/lib/python3.11/dist-packages (from requests->transformers) (2.4.0)\n",
            "Requirement already satisfied: certifi>=2017.4.17 in /usr/local/lib/python3.11/dist-packages (from requests->transformers) (2025.4.26)\n"
          ]
        }
      ]
    },
    {
      "cell_type": "markdown",
      "source": [
        "importing"
      ],
      "metadata": {
        "id": "kflfOqd6H5XG"
      }
    },
    {
      "cell_type": "code",
      "source": [
        "from transformers import pipeline, set_seed"
      ],
      "metadata": {
        "id": "PWbIgGbXIAf1"
      },
      "execution_count": 2,
      "outputs": []
    },
    {
      "cell_type": "markdown",
      "source": [
        "creating text generation pipeline using GPT-2"
      ],
      "metadata": {
        "id": "lAylpTkII0Ll"
      }
    },
    {
      "cell_type": "code",
      "source": [
        "generator = pipeline('text-generation', model='gpt2')\n",
        "set_seed(42)"
      ],
      "metadata": {
        "colab": {
          "base_uri": "https://localhost:8080/"
        },
        "id": "DrV24-QJI-ki",
        "outputId": "de8c3378-82c4-4d33-a724-c533b5cd672a"
      },
      "execution_count": 3,
      "outputs": [
        {
          "output_type": "stream",
          "name": "stderr",
          "text": [
            "/usr/local/lib/python3.11/dist-packages/huggingface_hub/utils/_auth.py:94: UserWarning: \n",
            "The secret `HF_TOKEN` does not exist in your Colab secrets.\n",
            "To authenticate with the Hugging Face Hub, create a token in your settings tab (https://huggingface.co/settings/tokens), set it as secret in your Google Colab and restart your session.\n",
            "You will be able to reuse this secret in all of your notebooks.\n",
            "Please note that authentication is recommended but still optional to access public models or datasets.\n",
            "  warnings.warn(\n",
            "Device set to use cpu\n"
          ]
        }
      ]
    },
    {
      "cell_type": "markdown",
      "source": [
        "enter input"
      ],
      "metadata": {
        "id": "aU4F5XcnJO7z"
      }
    },
    {
      "cell_type": "code",
      "source": [
        "dream = input(\"Describe your dream: \")"
      ],
      "metadata": {
        "colab": {
          "base_uri": "https://localhost:8080/"
        },
        "id": "JF4d3E-tJgh0",
        "outputId": "125db0e4-9961-47e8-9d57-2754f8f51855"
      },
      "execution_count": 4,
      "outputs": [
        {
          "name": "stdout",
          "output_type": "stream",
          "text": [
            "Describe your dream: I was walking on clouds and saw a giant cat reading a newspaper.\n"
          ]
        }
      ]
    },
    {
      "cell_type": "markdown",
      "source": [
        "adding a prompt prefix to help the model write a story"
      ],
      "metadata": {
        "id": "xbFz6A2nJtGQ"
      }
    },
    {
      "cell_type": "code",
      "source": [
        "prompt = f\"Turn this dream into a magical story:\\nDream: {dream}\\nStory:\""
      ],
      "metadata": {
        "id": "bRk8RsGzJ6j2"
      },
      "execution_count": 8,
      "outputs": []
    },
    {
      "cell_type": "markdown",
      "source": [
        "Generating story"
      ],
      "metadata": {
        "id": "gxDBq6RaJ__s"
      }
    },
    {
      "cell_type": "code",
      "source": [
        "story = generator(prompt, max_length=300, num_return_sequences=1)[0]['generated_text']"
      ],
      "metadata": {
        "colab": {
          "base_uri": "https://localhost:8080/"
        },
        "id": "YUL63_kzKFhY",
        "outputId": "f75ad731-0918-463f-83e2-3ef50dd2ceec"
      },
      "execution_count": 6,
      "outputs": [
        {
          "output_type": "stream",
          "name": "stderr",
          "text": [
            "Truncation was not explicitly activated but `max_length` is provided a specific value, please use `truncation=True` to explicitly truncate examples to max length. Defaulting to 'longest_first' truncation strategy. If you encode pairs of sequences (GLUE-style) with the tokenizer you can select this strategy more precisely by providing a specific strategy to `truncation`.\n",
            "Setting `pad_token_id` to `eos_token_id`:50256 for open-end generation.\n"
          ]
        }
      ]
    },
    {
      "cell_type": "markdown",
      "source": [
        "Display output"
      ],
      "metadata": {
        "id": "9mvhXR30KKR3"
      }
    },
    {
      "cell_type": "code",
      "source": [
        "print(\"\\n Generated Story:\\n\")\n",
        "print(story)"
      ],
      "metadata": {
        "colab": {
          "base_uri": "https://localhost:8080/"
        },
        "id": "r4A-l1amKNzM",
        "outputId": "08e4cda3-bf29-48cb-bd16-ae83d5a5d031"
      },
      "execution_count": 7,
      "outputs": [
        {
          "output_type": "stream",
          "name": "stdout",
          "text": [
            "\n",
            " Generated Story:\n",
            "\n",
            "Turn this dream into a magical story:\n",
            "Dream: I was walking on clouds and saw a giant cat reading a newspaper.\n",
            "Story: The world was blue. A sea was dark. A sea was large.\n",
            "Dream: I woke up. I was at the top of a mountain.\n",
            "Dream: I was in a forest. I was flying. The clouds were dark. The stars seemed to be glowing. I was in a lake.\n",
            "Dream: I fell over in the water. I jumped with both hands and looked around. It was a big lake.\n",
            "Dream: I saw people floating on the lake.\n",
            "Dream: I looked inside the camera and saw birds flying around and a mountain was floating above me.\n",
            "Dream: I saw a cloud of stars.\n",
            "Dream: I saw people floating.\n",
            "Dream: I saw a massive sea with a sky. Dream: I heard a noise.\n",
            "Dream: I saw a waterfall.\n",
            "Dream: I heard a bird's cry. I looked outside, but the sky was dark. Suddenly I could feel a great quake.\n",
            "Dream: I saw an entire continent. People were in the water.\n",
            "Dream: I saw a city in a lake.\n",
            "Dream: I heard a sea. My heart was beating quick. I saw people floating in rivers.\n",
            "Dream: I looked across the lake and saw a waterfall.\n",
            "Dream: I looked across the lake and see a cloud of stars.\n",
            "Dream: I saw\n"
          ]
        }
      ]
    }
  ]
}